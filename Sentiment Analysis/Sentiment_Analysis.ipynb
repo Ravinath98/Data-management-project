{
  "cells": [
    {
      "cell_type": "code",
      "execution_count": 221,
      "metadata": {
        "colab": {
          "base_uri": "https://localhost:8080/"
        },
        "id": "744fccaf",
        "outputId": "73495398-aa66-4a95-e1cc-088bde3c4833"
      },
      "outputs": [
        {
          "output_type": "stream",
          "name": "stderr",
          "text": [
            "[nltk_data] Downloading package vader_lexicon to /root/nltk_data...\n",
            "[nltk_data]   Package vader_lexicon is already up-to-date!\n"
          ]
        }
      ],
      "source": [
        "#import the requried libraries\n",
        "\n",
        "import pandas as pd #for dataframe \n",
        "import nltk #for text processing\n",
        "import numpy as np \n",
        "from nltk.sentiment.vader import SentimentIntensityAnalyzer \n",
        "import re\n",
        "from textblob import TextBlob\n",
        "from wordcloud import WordCloud\n",
        "import seaborn as sns \n",
        "import matplotlib.pyplot as plt\n",
        "import cufflinks as cf\n",
        "from transformers import AutoTokenizer\n",
        "from transformers import AutoModelForSequenceClassification\n",
        "from scipy.special import softmax\n",
        "nltk.download('vader_lexicon')\n",
        "from tqdm.notebook import tqdm"
      ],
      "id": "744fccaf"
    },
    {
      "cell_type": "code",
      "execution_count": 222,
      "metadata": {
        "id": "8062e6b0"
      },
      "outputs": [],
      "source": [
        "#packages insallations\n",
        "\n",
        "# !pip install textblob\n",
        "# !pip install wordcloud\n",
        "# !pip install seaborn\n",
        "# !pip install cufflinks\n",
        "# !pip install scipy\n",
        "# !pip install transformers"
      ],
      "id": "8062e6b0"
    },
    {
      "cell_type": "code",
      "execution_count": 223,
      "metadata": {
        "id": "KYPMpRQ277q9",
        "colab": {
          "base_uri": "https://localhost:8080/"
        },
        "outputId": "ae050ab4-4979-4a43-f4d9-6b40fb29cf87"
      },
      "outputs": [
        {
          "output_type": "stream",
          "name": "stdout",
          "text": [
            "Drive already mounted at /content/drive; to attempt to forcibly remount, call drive.mount(\"/content/drive\", force_remount=True).\n"
          ]
        }
      ],
      "source": [
        "#connect to the google drive\n",
        "from google.colab import drive\n",
        "drive.mount('/content/drive')"
      ],
      "id": "KYPMpRQ277q9"
    },
    {
      "cell_type": "markdown",
      "metadata": {
        "id": "A5qFLXYWNi_o"
      },
      "source": [
        "#**Data Reduction** "
      ],
      "id": "A5qFLXYWNi_o"
    },
    {
      "cell_type": "code",
      "execution_count": 224,
      "metadata": {
        "id": "1257264f",
        "scrolled": true
      },
      "outputs": [],
      "source": [
        "# #read(as pandas dataframe) and display the head values of the dataset \n",
        "# df = pd.read_json('Industrial_and_Scientific.json' ,lines=True)\n",
        "# df.head()"
      ],
      "id": "1257264f"
    },
    {
      "cell_type": "code",
      "execution_count": 225,
      "metadata": {
        "id": "3616d958"
      },
      "outputs": [],
      "source": [
        "# #data types of the dataframe\n",
        "# df.dtypes"
      ],
      "id": "3616d958"
    },
    {
      "cell_type": "code",
      "execution_count": 226,
      "metadata": {
        "id": "116e6078"
      },
      "outputs": [],
      "source": [
        "# #dataframe shape\n",
        "# df.shape"
      ],
      "id": "116e6078"
    },
    {
      "cell_type": "code",
      "execution_count": 227,
      "metadata": {
        "id": "08922262"
      },
      "outputs": [],
      "source": [
        "# #convert the reviewTime to datetime format\n",
        "# df['reviewTime'] =  pd.to_datetime(df['reviewTime'], format='%m %d, %Y')"
      ],
      "id": "08922262"
    },
    {
      "cell_type": "code",
      "execution_count": 228,
      "metadata": {
        "id": "20ae1451"
      },
      "outputs": [],
      "source": [
        "# #datatype check after convering reviwTime column\n",
        "# df.dtypes"
      ],
      "id": "20ae1451"
    },
    {
      "cell_type": "code",
      "execution_count": 229,
      "metadata": {
        "id": "246eea7f"
      },
      "outputs": [],
      "source": [
        "# #filter based on year(only get the data from 2015-2018)-Data reduction in data preprocessing-to reduce the costs associated with data mining or data analysis and get the latest data for the project from the selected dataset\n",
        "# import datetime as dt\n",
        "# df = df[df['reviewTime'].dt.year == 2018]"
      ],
      "id": "246eea7f"
    },
    {
      "cell_type": "code",
      "execution_count": 230,
      "metadata": {
        "id": "4e80cd65"
      },
      "outputs": [],
      "source": [
        "# #dataframe shape after filtering\n",
        "# df.shape"
      ],
      "id": "4e80cd65"
    },
    {
      "cell_type": "code",
      "execution_count": 231,
      "metadata": {
        "id": "f9e22983"
      },
      "outputs": [],
      "source": [
        "# #new dataframe save as csv\n",
        "# df.to_csv('Industrial_and_Scientific.csv')"
      ],
      "id": "f9e22983"
    },
    {
      "cell_type": "markdown",
      "metadata": {
        "id": "-OEuscgIN1uY"
      },
      "source": [
        "# **Data Preprocessing**"
      ],
      "id": "-OEuscgIN1uY"
    },
    {
      "cell_type": "code",
      "execution_count": 232,
      "metadata": {
        "id": "35890137"
      },
      "outputs": [],
      "source": [
        "#read the dataset\n",
        "df=pd.read_csv('/content/drive/MyDrive/Data Management Project/Dataset/Industrial_and_Scientific.csv')"
      ],
      "id": "35890137"
    },
    {
      "cell_type": "code",
      "execution_count": 233,
      "metadata": {
        "id": "4a46fb50",
        "colab": {
          "base_uri": "https://localhost:8080/",
          "height": 406
        },
        "outputId": "fa238d08-674e-4427-cc9d-694e5e0f2def"
      },
      "outputs": [
        {
          "output_type": "execute_result",
          "data": {
            "text/plain": [
              "   Unnamed: 0  overall  verified  reviewTime      reviewerID        asin  \\\n",
              "0         303        5      True  2018-01-21  A314RSJF963JYD  B0000223SK   \n",
              "1         304        4      True  2018-01-13   AUL5LCV4TT73P  B0000223SK   \n",
              "2         305        5      True  2018-01-07  A2IRX14SLTFW6L  B0000223SK   \n",
              "3         552        5      True  2018-04-11  A2HOVQIM12DEZM  B0000223UV   \n",
              "4         553        3      True  2018-04-05  A38U47FUMS5319  B0000223UV   \n",
              "\n",
              "    reviewerName                                         reviewText  \\\n",
              "0  EJ in Seattle  Love this stuff!  Works on several tools and i...   \n",
              "1            TnT                                      As advertised   \n",
              "2         pattyk      Great product.  Works well.  Thank you,  Mike   \n",
              "3        VFW 887                          Great Price, fast service   \n",
              "4    Kenny Davis                Not As Strong As I Thought Would Be   \n",
              "\n",
              "                            summary  unixReviewTime  vote  \\\n",
              "0                        Excellent!      1516492800   NaN   \n",
              "1                     As advertised      1515801600   NaN   \n",
              "2                        Five Stars      1515283200   NaN   \n",
              "3                        Five Stars      1523404800   NaN   \n",
              "4  Not As Strong As I Thought Would      1522886400   NaN   \n",
              "\n",
              "                    style image  \n",
              "0    {'Size:': ' 1-Pack'}   NaN  \n",
              "1    {'Size:': ' 1-Pack'}   NaN  \n",
              "2    {'Size:': ' 1-Pack'}   NaN  \n",
              "3  {'Size:': ' 1 - Pack'}   NaN  \n",
              "4  {'Size:': ' 1 - Pack'}   NaN  "
            ],
            "text/html": [
              "\n",
              "  <div id=\"df-84e7017a-d39e-4172-8616-46c45f498a34\">\n",
              "    <div class=\"colab-df-container\">\n",
              "      <div>\n",
              "<style scoped>\n",
              "    .dataframe tbody tr th:only-of-type {\n",
              "        vertical-align: middle;\n",
              "    }\n",
              "\n",
              "    .dataframe tbody tr th {\n",
              "        vertical-align: top;\n",
              "    }\n",
              "\n",
              "    .dataframe thead th {\n",
              "        text-align: right;\n",
              "    }\n",
              "</style>\n",
              "<table border=\"1\" class=\"dataframe\">\n",
              "  <thead>\n",
              "    <tr style=\"text-align: right;\">\n",
              "      <th></th>\n",
              "      <th>Unnamed: 0</th>\n",
              "      <th>overall</th>\n",
              "      <th>verified</th>\n",
              "      <th>reviewTime</th>\n",
              "      <th>reviewerID</th>\n",
              "      <th>asin</th>\n",
              "      <th>reviewerName</th>\n",
              "      <th>reviewText</th>\n",
              "      <th>summary</th>\n",
              "      <th>unixReviewTime</th>\n",
              "      <th>vote</th>\n",
              "      <th>style</th>\n",
              "      <th>image</th>\n",
              "    </tr>\n",
              "  </thead>\n",
              "  <tbody>\n",
              "    <tr>\n",
              "      <th>0</th>\n",
              "      <td>303</td>\n",
              "      <td>5</td>\n",
              "      <td>True</td>\n",
              "      <td>2018-01-21</td>\n",
              "      <td>A314RSJF963JYD</td>\n",
              "      <td>B0000223SK</td>\n",
              "      <td>EJ in Seattle</td>\n",
              "      <td>Love this stuff!  Works on several tools and i...</td>\n",
              "      <td>Excellent!</td>\n",
              "      <td>1516492800</td>\n",
              "      <td>NaN</td>\n",
              "      <td>{'Size:': ' 1-Pack'}</td>\n",
              "      <td>NaN</td>\n",
              "    </tr>\n",
              "    <tr>\n",
              "      <th>1</th>\n",
              "      <td>304</td>\n",
              "      <td>4</td>\n",
              "      <td>True</td>\n",
              "      <td>2018-01-13</td>\n",
              "      <td>AUL5LCV4TT73P</td>\n",
              "      <td>B0000223SK</td>\n",
              "      <td>TnT</td>\n",
              "      <td>As advertised</td>\n",
              "      <td>As advertised</td>\n",
              "      <td>1515801600</td>\n",
              "      <td>NaN</td>\n",
              "      <td>{'Size:': ' 1-Pack'}</td>\n",
              "      <td>NaN</td>\n",
              "    </tr>\n",
              "    <tr>\n",
              "      <th>2</th>\n",
              "      <td>305</td>\n",
              "      <td>5</td>\n",
              "      <td>True</td>\n",
              "      <td>2018-01-07</td>\n",
              "      <td>A2IRX14SLTFW6L</td>\n",
              "      <td>B0000223SK</td>\n",
              "      <td>pattyk</td>\n",
              "      <td>Great product.  Works well.  Thank you,  Mike</td>\n",
              "      <td>Five Stars</td>\n",
              "      <td>1515283200</td>\n",
              "      <td>NaN</td>\n",
              "      <td>{'Size:': ' 1-Pack'}</td>\n",
              "      <td>NaN</td>\n",
              "    </tr>\n",
              "    <tr>\n",
              "      <th>3</th>\n",
              "      <td>552</td>\n",
              "      <td>5</td>\n",
              "      <td>True</td>\n",
              "      <td>2018-04-11</td>\n",
              "      <td>A2HOVQIM12DEZM</td>\n",
              "      <td>B0000223UV</td>\n",
              "      <td>VFW 887</td>\n",
              "      <td>Great Price, fast service</td>\n",
              "      <td>Five Stars</td>\n",
              "      <td>1523404800</td>\n",
              "      <td>NaN</td>\n",
              "      <td>{'Size:': ' 1 - Pack'}</td>\n",
              "      <td>NaN</td>\n",
              "    </tr>\n",
              "    <tr>\n",
              "      <th>4</th>\n",
              "      <td>553</td>\n",
              "      <td>3</td>\n",
              "      <td>True</td>\n",
              "      <td>2018-04-05</td>\n",
              "      <td>A38U47FUMS5319</td>\n",
              "      <td>B0000223UV</td>\n",
              "      <td>Kenny Davis</td>\n",
              "      <td>Not As Strong As I Thought Would Be</td>\n",
              "      <td>Not As Strong As I Thought Would</td>\n",
              "      <td>1522886400</td>\n",
              "      <td>NaN</td>\n",
              "      <td>{'Size:': ' 1 - Pack'}</td>\n",
              "      <td>NaN</td>\n",
              "    </tr>\n",
              "  </tbody>\n",
              "</table>\n",
              "</div>\n",
              "      <button class=\"colab-df-convert\" onclick=\"convertToInteractive('df-84e7017a-d39e-4172-8616-46c45f498a34')\"\n",
              "              title=\"Convert this dataframe to an interactive table.\"\n",
              "              style=\"display:none;\">\n",
              "        \n",
              "  <svg xmlns=\"http://www.w3.org/2000/svg\" height=\"24px\"viewBox=\"0 0 24 24\"\n",
              "       width=\"24px\">\n",
              "    <path d=\"M0 0h24v24H0V0z\" fill=\"none\"/>\n",
              "    <path d=\"M18.56 5.44l.94 2.06.94-2.06 2.06-.94-2.06-.94-.94-2.06-.94 2.06-2.06.94zm-11 1L8.5 8.5l.94-2.06 2.06-.94-2.06-.94L8.5 2.5l-.94 2.06-2.06.94zm10 10l.94 2.06.94-2.06 2.06-.94-2.06-.94-.94-2.06-.94 2.06-2.06.94z\"/><path d=\"M17.41 7.96l-1.37-1.37c-.4-.4-.92-.59-1.43-.59-.52 0-1.04.2-1.43.59L10.3 9.45l-7.72 7.72c-.78.78-.78 2.05 0 2.83L4 21.41c.39.39.9.59 1.41.59.51 0 1.02-.2 1.41-.59l7.78-7.78 2.81-2.81c.8-.78.8-2.07 0-2.86zM5.41 20L4 18.59l7.72-7.72 1.47 1.35L5.41 20z\"/>\n",
              "  </svg>\n",
              "      </button>\n",
              "      \n",
              "  <style>\n",
              "    .colab-df-container {\n",
              "      display:flex;\n",
              "      flex-wrap:wrap;\n",
              "      gap: 12px;\n",
              "    }\n",
              "\n",
              "    .colab-df-convert {\n",
              "      background-color: #E8F0FE;\n",
              "      border: none;\n",
              "      border-radius: 50%;\n",
              "      cursor: pointer;\n",
              "      display: none;\n",
              "      fill: #1967D2;\n",
              "      height: 32px;\n",
              "      padding: 0 0 0 0;\n",
              "      width: 32px;\n",
              "    }\n",
              "\n",
              "    .colab-df-convert:hover {\n",
              "      background-color: #E2EBFA;\n",
              "      box-shadow: 0px 1px 2px rgba(60, 64, 67, 0.3), 0px 1px 3px 1px rgba(60, 64, 67, 0.15);\n",
              "      fill: #174EA6;\n",
              "    }\n",
              "\n",
              "    [theme=dark] .colab-df-convert {\n",
              "      background-color: #3B4455;\n",
              "      fill: #D2E3FC;\n",
              "    }\n",
              "\n",
              "    [theme=dark] .colab-df-convert:hover {\n",
              "      background-color: #434B5C;\n",
              "      box-shadow: 0px 1px 3px 1px rgba(0, 0, 0, 0.15);\n",
              "      filter: drop-shadow(0px 1px 2px rgba(0, 0, 0, 0.3));\n",
              "      fill: #FFFFFF;\n",
              "    }\n",
              "  </style>\n",
              "\n",
              "      <script>\n",
              "        const buttonEl =\n",
              "          document.querySelector('#df-84e7017a-d39e-4172-8616-46c45f498a34 button.colab-df-convert');\n",
              "        buttonEl.style.display =\n",
              "          google.colab.kernel.accessAllowed ? 'block' : 'none';\n",
              "\n",
              "        async function convertToInteractive(key) {\n",
              "          const element = document.querySelector('#df-84e7017a-d39e-4172-8616-46c45f498a34');\n",
              "          const dataTable =\n",
              "            await google.colab.kernel.invokeFunction('convertToInteractive',\n",
              "                                                     [key], {});\n",
              "          if (!dataTable) return;\n",
              "\n",
              "          const docLinkHtml = 'Like what you see? Visit the ' +\n",
              "            '<a target=\"_blank\" href=https://colab.research.google.com/notebooks/data_table.ipynb>data table notebook</a>'\n",
              "            + ' to learn more about interactive tables.';\n",
              "          element.innerHTML = '';\n",
              "          dataTable['output_type'] = 'display_data';\n",
              "          await google.colab.output.renderOutput(dataTable, element);\n",
              "          const docLink = document.createElement('div');\n",
              "          docLink.innerHTML = docLinkHtml;\n",
              "          element.appendChild(docLink);\n",
              "        }\n",
              "      </script>\n",
              "    </div>\n",
              "  </div>\n",
              "  "
            ]
          },
          "metadata": {},
          "execution_count": 233
        }
      ],
      "source": [
        "#head values\n",
        "df.head()"
      ],
      "id": "4a46fb50"
    },
    {
      "cell_type": "code",
      "source": [
        "# reset the index and rename the resulting column\n",
        "df = df.reset_index().rename(columns={'index': 'id'})"
      ],
      "metadata": {
        "id": "9Rw1gsevCaTe"
      },
      "id": "9Rw1gsevCaTe",
      "execution_count": 234,
      "outputs": []
    },
    {
      "cell_type": "code",
      "execution_count": 235,
      "metadata": {
        "id": "hIuwQCSIQWOf",
        "colab": {
          "base_uri": "https://localhost:8080/"
        },
        "outputId": "13e41bde-4880-48be-901d-6e181a7d7768"
      },
      "outputs": [
        {
          "output_type": "execute_result",
          "data": {
            "text/plain": [
              "(203801, 14)"
            ]
          },
          "metadata": {},
          "execution_count": 235
        }
      ],
      "source": [
        "#shape of the dataframe\n",
        "df.shape"
      ],
      "id": "hIuwQCSIQWOf"
    },
    {
      "cell_type": "code",
      "execution_count": 236,
      "metadata": {
        "id": "JTvL_6BxRULb",
        "colab": {
          "base_uri": "https://localhost:8080/"
        },
        "outputId": "64f8ad13-463e-4efa-8dd4-6ab603c32fad"
      },
      "outputs": [
        {
          "output_type": "execute_result",
          "data": {
            "text/plain": [
              "id                  int64\n",
              "Unnamed: 0          int64\n",
              "overall             int64\n",
              "verified             bool\n",
              "reviewTime         object\n",
              "reviewerID         object\n",
              "asin               object\n",
              "reviewerName       object\n",
              "reviewText         object\n",
              "summary            object\n",
              "unixReviewTime      int64\n",
              "vote              float64\n",
              "style              object\n",
              "image              object\n",
              "dtype: object"
            ]
          },
          "metadata": {},
          "execution_count": 236
        }
      ],
      "source": [
        "#data types of the dataframe\n",
        "df.dtypes"
      ],
      "id": "JTvL_6BxRULb"
    },
    {
      "cell_type": "code",
      "source": [
        "#only filter the verified reviews\n",
        "df = df[df.verified == True]\n",
        "df.shape #shape of the dataframe after filtering"
      ],
      "metadata": {
        "colab": {
          "base_uri": "https://localhost:8080/"
        },
        "id": "rhpIFdWv5GYi",
        "outputId": "b0fdd3ea-4f6e-425e-cbaa-b522f33bf8f1"
      },
      "id": "rhpIFdWv5GYi",
      "execution_count": 237,
      "outputs": [
        {
          "output_type": "execute_result",
          "data": {
            "text/plain": [
              "(197340, 14)"
            ]
          },
          "metadata": {},
          "execution_count": 237
        }
      ]
    },
    {
      "cell_type": "code",
      "execution_count": 238,
      "metadata": {
        "id": "WlJKcDvVP2Hd",
        "colab": {
          "base_uri": "https://localhost:8080/"
        },
        "outputId": "f389274a-5604-4e0d-b4cc-1f2e71ccb9d3"
      },
      "outputs": [
        {
          "output_type": "execute_result",
          "data": {
            "text/plain": [
              "id              0\n",
              "reviewText    184\n",
              "overall         0\n",
              "summary       104\n",
              "dtype: int64"
            ]
          },
          "metadata": {},
          "execution_count": 238
        }
      ],
      "source": [
        "#null rows\n",
        "df= df[['id','reviewText','overall','summary']]\n",
        "null_rows=df.isnull().sum() #null rows count\n",
        "null_rows"
      ],
      "id": "WlJKcDvVP2Hd"
    },
    {
      "cell_type": "code",
      "execution_count": 239,
      "metadata": {
        "id": "TTJSqUEmQpjR",
        "colab": {
          "base_uri": "https://localhost:8080/"
        },
        "outputId": "51c74bb3-aab6-4b76-c930-f9d37d8ea5a5"
      },
      "outputs": [
        {
          "output_type": "execute_result",
          "data": {
            "text/plain": [
              "(197073, 4)"
            ]
          },
          "metadata": {},
          "execution_count": 239
        }
      ],
      "source": [
        "#remove the null rows(due to very less null values)\n",
        "df=df.dropna() \n",
        "df.shape #shape of the dataframe after dropping the null values"
      ],
      "id": "TTJSqUEmQpjR"
    },
    {
      "cell_type": "code",
      "execution_count": 240,
      "metadata": {
        "id": "iXWGtuolRn_i",
        "colab": {
          "base_uri": "https://localhost:8080/",
          "height": 295
        },
        "outputId": "b6dfae5b-c533-4c00-88f6-ea30323f0f64"
      },
      "outputs": [
        {
          "output_type": "display_data",
          "data": {
            "text/plain": [
              "<Figure size 432x288 with 1 Axes>"
            ],
            "image/png": "[encoded data removed]"
          },
          "metadata": {
            "needs_background": "light"
          }
        }
      ],
      "source": [
        "# Count the occurrences of each overall score\n",
        "counts = df['overall'].value_counts()\n",
        "\n",
        "# Define colors for each category\n",
        "colors = ['blue', 'orange', 'green','yellow','red']\n",
        "\n",
        "# Create a bar chart\n",
        "plt.bar(counts.index, counts.values, color=colors)\n",
        "\n",
        "# Set the title and axis labels\n",
        "plt.title('Overall Variable Counts')\n",
        "plt.xlabel('Overall')\n",
        "plt.ylabel('Count')\n",
        "\n",
        "# Display the plot\n",
        "plt.show()"
      ],
      "id": "iXWGtuolRn_i"
    },
    {
      "cell_type": "code",
      "execution_count": 241,
      "metadata": {
        "id": "b79bd6dd",
        "colab": {
          "base_uri": "https://localhost:8080/"
        },
        "outputId": "a8e85c87-1ee3-452c-aee6-de3cbcad247d"
      },
      "outputs": [
        {
          "output_type": "execute_result",
          "data": {
            "text/plain": [
              "0    Love this stuff!  Works on several tools and i...\n",
              "1                                        As advertised\n",
              "2        Great product.  Works well.  Thank you,  Mike\n",
              "3                            Great Price, fast service\n",
              "4                  Not As Strong As I Thought Would Be\n",
              "Name: reviewText, dtype: object"
            ]
          },
          "metadata": {},
          "execution_count": 241
        }
      ],
      "source": [
        "#head values of products reviews\n",
        "df.reviewText.head()"
      ],
      "id": "b79bd6dd"
    },
    {
      "cell_type": "code",
      "execution_count": 242,
      "metadata": {
        "id": "44afdeeb",
        "colab": {
          "base_uri": "https://localhost:8080/",
          "height": 35
        },
        "outputId": "14d2f7cd-20a9-4a7b-8ba6-c92113dba9cc"
      },
      "outputs": [
        {
          "output_type": "execute_result",
          "data": {
            "text/plain": [
              "'Love this stuff!  Works on several tools and is quality product!'"
            ],
            "application/vnd.google.colaboratory.intrinsic+json": {
              "type": "string"
            }
          },
          "metadata": {},
          "execution_count": 242
        }
      ],
      "source": [
        "#sample review preview\n",
        "review_example=df.reviewText[0]\n",
        "review_example"
      ],
      "id": "44afdeeb"
    },
    {
      "cell_type": "code",
      "execution_count": 243,
      "metadata": {
        "id": "d191c662",
        "colab": {
          "base_uri": "https://localhost:8080/",
          "height": 35
        },
        "outputId": "b4f23912-9cf9-4ef8-e0d9-ecf8a64f1416"
      },
      "outputs": [
        {
          "output_type": "execute_result",
          "data": {
            "text/plain": [
              "'Love this stuff   Works on several tools and is quality product '"
            ],
            "application/vnd.google.colaboratory.intrinsic+json": {
              "type": "string"
            }
          },
          "metadata": {},
          "execution_count": 243
        }
      ],
      "source": [
        "#remove all the punctuations and numbers from the text\n",
        "review_example1=re.sub(\"[^a-zA-Z]\",' ',review_example)\n",
        "review_example1"
      ],
      "id": "d191c662"
    },
    {
      "cell_type": "code",
      "execution_count": 244,
      "metadata": {
        "id": "93a94ccc",
        "colab": {
          "base_uri": "https://localhost:8080/"
        },
        "outputId": "9b71ea07-aee6-49b6-f92b-f73c059269d3"
      },
      "outputs": [
        {
          "output_type": "execute_result",
          "data": {
            "text/plain": [
              "['love',\n",
              " 'this',\n",
              " 'stuff',\n",
              " 'works',\n",
              " 'on',\n",
              " 'several',\n",
              " 'tools',\n",
              " 'and',\n",
              " 'is',\n",
              " 'quality',\n",
              " 'product']"
            ]
          },
          "metadata": {},
          "execution_count": 244
        }
      ],
      "source": [
        "#convert all the letters to lowercase letters\n",
        "review_example1=review_example1.lower().split()\n",
        "review_example1"
      ],
      "id": "93a94ccc"
    },
    {
      "cell_type": "code",
      "execution_count": 245,
      "metadata": {
        "colab": {
          "base_uri": "https://localhost:8080/",
          "height": 206
        },
        "id": "0ff59bf6",
        "outputId": "f32844f3-da87-4313-97d8-873200f6efc6"
      },
      "outputs": [
        {
          "output_type": "execute_result",
          "data": {
            "text/plain": [
              "   id                                         reviewText  overall  \\\n",
              "0   0  love this stuff   works on several tools and i...        5   \n",
              "1   1                                      as advertised        4   \n",
              "2   2      great product   works well   thank you   mike        5   \n",
              "3   3                          great price  fast service        5   \n",
              "4   4                not as strong as i thought would be        3   \n",
              "\n",
              "                            summary  \n",
              "0                        Excellent!  \n",
              "1                     As advertised  \n",
              "2                        Five Stars  \n",
              "3                        Five Stars  \n",
              "4  Not As Strong As I Thought Would  "
            ],
            "text/html": [
              "\n",
              "  <div id=\"df-a1514ad6-03d8-40e2-9c94-8981c61f7703\">\n",
              "    <div class=\"colab-df-container\">\n",
              "      <div>\n",
              "<style scoped>\n",
              "    .dataframe tbody tr th:only-of-type {\n",
              "        vertical-align: middle;\n",
              "    }\n",
              "\n",
              "    .dataframe tbody tr th {\n",
              "        vertical-align: top;\n",
              "    }\n",
              "\n",
              "    .dataframe thead th {\n",
              "        text-align: right;\n",
              "    }\n",
              "</style>\n",
              "<table border=\"1\" class=\"dataframe\">\n",
              "  <thead>\n",
              "    <tr style=\"text-align: right;\">\n",
              "      <th></th>\n",
              "      <th>id</th>\n",
              "      <th>reviewText</th>\n",
              "      <th>overall</th>\n",
              "      <th>summary</th>\n",
              "    </tr>\n",
              "  </thead>\n",
              "  <tbody>\n",
              "    <tr>\n",
              "      <th>0</th>\n",
              "      <td>0</td>\n",
              "      <td>love this stuff   works on several tools and i...</td>\n",
              "      <td>5</td>\n",
              "      <td>Excellent!</td>\n",
              "    </tr>\n",
              "    <tr>\n",
              "      <th>1</th>\n",
              "      <td>1</td>\n",
              "      <td>as advertised</td>\n",
              "      <td>4</td>\n",
              "      <td>As advertised</td>\n",
              "    </tr>\n",
              "    <tr>\n",
              "      <th>2</th>\n",
              "      <td>2</td>\n",
              "      <td>great product   works well   thank you   mike</td>\n",
              "      <td>5</td>\n",
              "      <td>Five Stars</td>\n",
              "    </tr>\n",
              "    <tr>\n",
              "      <th>3</th>\n",
              "      <td>3</td>\n",
              "      <td>great price  fast service</td>\n",
              "      <td>5</td>\n",
              "      <td>Five Stars</td>\n",
              "    </tr>\n",
              "    <tr>\n",
              "      <th>4</th>\n",
              "      <td>4</td>\n",
              "      <td>not as strong as i thought would be</td>\n",
              "      <td>3</td>\n",
              "      <td>Not As Strong As I Thought Would</td>\n",
              "    </tr>\n",
              "  </tbody>\n",
              "</table>\n",
              "</div>\n",
              "      <button class=\"colab-df-convert\" onclick=\"convertToInteractive('df-a1514ad6-03d8-40e2-9c94-8981c61f7703')\"\n",
              "              title=\"Convert this dataframe to an interactive table.\"\n",
              "              style=\"display:none;\">\n",
              "        \n",
              "  <svg xmlns=\"http://www.w3.org/2000/svg\" height=\"24px\"viewBox=\"0 0 24 24\"\n",
              "       width=\"24px\">\n",
              "    <path d=\"M0 0h24v24H0V0z\" fill=\"none\"/>\n",
              "    <path d=\"M18.56 5.44l.94 2.06.94-2.06 2.06-.94-2.06-.94-.94-2.06-.94 2.06-2.06.94zm-11 1L8.5 8.5l.94-2.06 2.06-.94-2.06-.94L8.5 2.5l-.94 2.06-2.06.94zm10 10l.94 2.06.94-2.06 2.06-.94-2.06-.94-.94-2.06-.94 2.06-2.06.94z\"/><path d=\"M17.41 7.96l-1.37-1.37c-.4-.4-.92-.59-1.43-.59-.52 0-1.04.2-1.43.59L10.3 9.45l-7.72 7.72c-.78.78-.78 2.05 0 2.83L4 21.41c.39.39.9.59 1.41.59.51 0 1.02-.2 1.41-.59l7.78-7.78 2.81-2.81c.8-.78.8-2.07 0-2.86zM5.41 20L4 18.59l7.72-7.72 1.47 1.35L5.41 20z\"/>\n",
              "  </svg>\n",
              "      </button>\n",
              "      \n",
              "  <style>\n",
              "    .colab-df-container {\n",
              "      display:flex;\n",
              "      flex-wrap:wrap;\n",
              "      gap: 12px;\n",
              "    }\n",
              "\n",
              "    .colab-df-convert {\n",
              "      background-color: #E8F0FE;\n",
              "      border: none;\n",
              "      border-radius: 50%;\n",
              "      cursor: pointer;\n",
              "      display: none;\n",
              "      fill: #1967D2;\n",
              "      height: 32px;\n",
              "      padding: 0 0 0 0;\n",
              "      width: 32px;\n",
              "    }\n",
              "\n",
              "    .colab-df-convert:hover {\n",
              "      background-color: #E2EBFA;\n",
              "      box-shadow: 0px 1px 2px rgba(60, 64, 67, 0.3), 0px 1px 3px 1px rgba(60, 64, 67, 0.15);\n",
              "      fill: #174EA6;\n",
              "    }\n",
              "\n",
              "    [theme=dark] .colab-df-convert {\n",
              "      background-color: #3B4455;\n",
              "      fill: #D2E3FC;\n",
              "    }\n",
              "\n",
              "    [theme=dark] .colab-df-convert:hover {\n",
              "      background-color: #434B5C;\n",
              "      box-shadow: 0px 1px 3px 1px rgba(0, 0, 0, 0.15);\n",
              "      filter: drop-shadow(0px 1px 2px rgba(0, 0, 0, 0.3));\n",
              "      fill: #FFFFFF;\n",
              "    }\n",
              "  </style>\n",
              "\n",
              "      <script>\n",
              "        const buttonEl =\n",
              "          document.querySelector('#df-a1514ad6-03d8-40e2-9c94-8981c61f7703 button.colab-df-convert');\n",
              "        buttonEl.style.display =\n",
              "          google.colab.kernel.accessAllowed ? 'block' : 'none';\n",
              "\n",
              "        async function convertToInteractive(key) {\n",
              "          const element = document.querySelector('#df-a1514ad6-03d8-40e2-9c94-8981c61f7703');\n",
              "          const dataTable =\n",
              "            await google.colab.kernel.invokeFunction('convertToInteractive',\n",
              "                                                     [key], {});\n",
              "          if (!dataTable) return;\n",
              "\n",
              "          const docLinkHtml = 'Like what you see? Visit the ' +\n",
              "            '<a target=\"_blank\" href=https://colab.research.google.com/notebooks/data_table.ipynb>data table notebook</a>'\n",
              "            + ' to learn more about interactive tables.';\n",
              "          element.innerHTML = '';\n",
              "          dataTable['output_type'] = 'display_data';\n",
              "          await google.colab.output.renderOutput(dataTable, element);\n",
              "          const docLink = document.createElement('div');\n",
              "          docLink.innerHTML = docLinkHtml;\n",
              "          element.appendChild(docLink);\n",
              "        }\n",
              "      </script>\n",
              "    </div>\n",
              "  </div>\n",
              "  "
            ]
          },
          "metadata": {},
          "execution_count": 245
        }
      ],
      "source": [
        "#remove all the punctuations and numbers from the reviewText and convert to lower cases(considering all the rows in reviwText)\n",
        "rt=lambda x: re.sub(\"[^a-zA-Z]\",' ',str(x))\n",
        "df[\"reviewText\"]=df[\"reviewText\"].map(rt)\n",
        "df[\"reviewText\"]=df[\"reviewText\"].str.lower()\n",
        "df.head()"
      ],
      "id": "0ff59bf6"
    },
    {
      "cell_type": "code",
      "source": [
        "#just take 100 reviews to checking the sentiment\n",
        "df=df.head(100)"
      ],
      "metadata": {
        "id": "-GS1GJH-5Pmw"
      },
      "id": "-GS1GJH-5Pmw",
      "execution_count": 246,
      "outputs": []
    },
    {
      "cell_type": "markdown",
      "metadata": {
        "id": "spCaJL0qVLud"
      },
      "source": [
        "# **Apply suitable classifiers**"
      ],
      "id": "spCaJL0qVLud"
    },
    {
      "cell_type": "markdown",
      "metadata": {
        "id": "7efb6f74"
      },
      "source": [
        "## **Sentiment Analyze(NLTK)**\n",
        "\n"
      ],
      "id": "7efb6f74"
    },
    {
      "cell_type": "markdown",
      "metadata": {
        "id": "ZEbt2iXmTPdr"
      },
      "source": [
        "This method takes each word and score individually\n",
        "\n",
        "---\n",
        "\n"
      ],
      "id": "ZEbt2iXmTPdr"
    },
    {
      "cell_type": "code",
      "execution_count": 247,
      "metadata": {
        "id": "37f147a3"
      },
      "outputs": [],
      "source": [
        "#loop through the entire dataset & set the sentiment for the review...\n",
        "df[[\"polarity\",\"subjectivity\"]]=df[\"reviewText\"].apply(lambda Text:pd.Series(TextBlob(Text).sentiment))\n",
        "for index,row in df[\"reviewText\"].iteritems():\n",
        "    score=SentimentIntensityAnalyzer().polarity_scores(row)\n",
        "    neg=score[\"neg\"]\n",
        "    neu=score[\"neu\"]\n",
        "    pos=score[\"pos\"]\n",
        "    if neg>pos:\n",
        "        df.loc[index,'sentiment']='Negative'\n",
        "    elif pos>neg:\n",
        "        df.loc[index,'sentiment']='Positive'\n",
        "    else:\n",
        "        df.loc[index,'sentiment']=\"Neutral\""
      ],
      "id": "37f147a3"
    },
    {
      "cell_type": "code",
      "execution_count": 248,
      "metadata": {
        "id": "4ea15d0a"
      },
      "outputs": [],
      "source": [
        "# df[df['sentiment']=='Positive'].sort_values()"
      ],
      "id": "4ea15d0a"
    },
    {
      "cell_type": "code",
      "execution_count": 249,
      "metadata": {
        "id": "8cb7b4ed",
        "colab": {
          "base_uri": "https://localhost:8080/",
          "height": 206
        },
        "outputId": "e792764d-5ef5-45ae-8e5a-49888136d957"
      },
      "outputs": [
        {
          "output_type": "execute_result",
          "data": {
            "text/plain": [
              "   id                                         reviewText  overall  \\\n",
              "0   0  love this stuff   works on several tools and i...        5   \n",
              "1   1                                      as advertised        4   \n",
              "2   2      great product   works well   thank you   mike        5   \n",
              "3   3                          great price  fast service        5   \n",
              "4   4                not as strong as i thought would be        3   \n",
              "\n",
              "                            summary  polarity  subjectivity sentiment  \n",
              "0                        Excellent!  0.250000      0.300000  Positive  \n",
              "1                     As advertised  0.000000      0.000000   Neutral  \n",
              "2                        Five Stars  0.800000      0.750000  Positive  \n",
              "3                        Five Stars  0.500000      0.675000  Positive  \n",
              "4  Not As Strong As I Thought Would  0.433333      0.733333  Negative  "
            ],
            "text/html": [
              "\n",
              "  <div id=\"df-ab7ad87c-96ae-41d9-ac15-126abd5374e4\">\n",
              "    <div class=\"colab-df-container\">\n",
              "      <div>\n",
              "<style scoped>\n",
              "    .dataframe tbody tr th:only-of-type {\n",
              "        vertical-align: middle;\n",
              "    }\n",
              "\n",
              "    .dataframe tbody tr th {\n",
              "        vertical-align: top;\n",
              "    }\n",
              "\n",
              "    .dataframe thead th {\n",
              "        text-align: right;\n",
              "    }\n",
              "</style>\n",
              "<table border=\"1\" class=\"dataframe\">\n",
              "  <thead>\n",
              "    <tr style=\"text-align: right;\">\n",
              "      <th></th>\n",
              "      <th>id</th>\n",
              "      <th>reviewText</th>\n",
              "      <th>overall</th>\n",
              "      <th>summary</th>\n",
              "      <th>polarity</th>\n",
              "      <th>subjectivity</th>\n",
              "      <th>sentiment</th>\n",
              "    </tr>\n",
              "  </thead>\n",
              "  <tbody>\n",
              "    <tr>\n",
              "      <th>0</th>\n",
              "      <td>0</td>\n",
              "      <td>love this stuff   works on several tools and i...</td>\n",
              "      <td>5</td>\n",
              "      <td>Excellent!</td>\n",
              "      <td>0.250000</td>\n",
              "      <td>0.300000</td>\n",
              "      <td>Positive</td>\n",
              "    </tr>\n",
              "    <tr>\n",
              "      <th>1</th>\n",
              "      <td>1</td>\n",
              "      <td>as advertised</td>\n",
              "      <td>4</td>\n",
              "      <td>As advertised</td>\n",
              "      <td>0.000000</td>\n",
              "      <td>0.000000</td>\n",
              "      <td>Neutral</td>\n",
              "    </tr>\n",
              "    <tr>\n",
              "      <th>2</th>\n",
              "      <td>2</td>\n",
              "      <td>great product   works well   thank you   mike</td>\n",
              "      <td>5</td>\n",
              "      <td>Five Stars</td>\n",
              "      <td>0.800000</td>\n",
              "      <td>0.750000</td>\n",
              "      <td>Positive</td>\n",
              "    </tr>\n",
              "    <tr>\n",
              "      <th>3</th>\n",
              "      <td>3</td>\n",
              "      <td>great price  fast service</td>\n",
              "      <td>5</td>\n",
              "      <td>Five Stars</td>\n",
              "      <td>0.500000</td>\n",
              "      <td>0.675000</td>\n",
              "      <td>Positive</td>\n",
              "    </tr>\n",
              "    <tr>\n",
              "      <th>4</th>\n",
              "      <td>4</td>\n",
              "      <td>not as strong as i thought would be</td>\n",
              "      <td>3</td>\n",
              "      <td>Not As Strong As I Thought Would</td>\n",
              "      <td>0.433333</td>\n",
              "      <td>0.733333</td>\n",
              "      <td>Negative</td>\n",
              "    </tr>\n",
              "  </tbody>\n",
              "</table>\n",
              "</div>\n",
              "      <button class=\"colab-df-convert\" onclick=\"convertToInteractive('df-ab7ad87c-96ae-41d9-ac15-126abd5374e4')\"\n",
              "              title=\"Convert this dataframe to an interactive table.\"\n",
              "              style=\"display:none;\">\n",
              "        \n",
              "  <svg xmlns=\"http://www.w3.org/2000/svg\" height=\"24px\"viewBox=\"0 0 24 24\"\n",
              "       width=\"24px\">\n",
              "    <path d=\"M0 0h24v24H0V0z\" fill=\"none\"/>\n",
              "    <path d=\"M18.56 5.44l.94 2.06.94-2.06 2.06-.94-2.06-.94-.94-2.06-.94 2.06-2.06.94zm-11 1L8.5 8.5l.94-2.06 2.06-.94-2.06-.94L8.5 2.5l-.94 2.06-2.06.94zm10 10l.94 2.06.94-2.06 2.06-.94-2.06-.94-.94-2.06-.94 2.06-2.06.94z\"/><path d=\"M17.41 7.96l-1.37-1.37c-.4-.4-.92-.59-1.43-.59-.52 0-1.04.2-1.43.59L10.3 9.45l-7.72 7.72c-.78.78-.78 2.05 0 2.83L4 21.41c.39.39.9.59 1.41.59.51 0 1.02-.2 1.41-.59l7.78-7.78 2.81-2.81c.8-.78.8-2.07 0-2.86zM5.41 20L4 18.59l7.72-7.72 1.47 1.35L5.41 20z\"/>\n",
              "  </svg>\n",
              "      </button>\n",
              "      \n",
              "  <style>\n",
              "    .colab-df-container {\n",
              "      display:flex;\n",
              "      flex-wrap:wrap;\n",
              "      gap: 12px;\n",
              "    }\n",
              "\n",
              "    .colab-df-convert {\n",
              "      background-color: #E8F0FE;\n",
              "      border: none;\n",
              "      border-radius: 50%;\n",
              "      cursor: pointer;\n",
              "      display: none;\n",
              "      fill: #1967D2;\n",
              "      height: 32px;\n",
              "      padding: 0 0 0 0;\n",
              "      width: 32px;\n",
              "    }\n",
              "\n",
              "    .colab-df-convert:hover {\n",
              "      background-color: #E2EBFA;\n",
              "      box-shadow: 0px 1px 2px rgba(60, 64, 67, 0.3), 0px 1px 3px 1px rgba(60, 64, 67, 0.15);\n",
              "      fill: #174EA6;\n",
              "    }\n",
              "\n",
              "    [theme=dark] .colab-df-convert {\n",
              "      background-color: #3B4455;\n",
              "      fill: #D2E3FC;\n",
              "    }\n",
              "\n",
              "    [theme=dark] .colab-df-convert:hover {\n",
              "      background-color: #434B5C;\n",
              "      box-shadow: 0px 1px 3px 1px rgba(0, 0, 0, 0.15);\n",
              "      filter: drop-shadow(0px 1px 2px rgba(0, 0, 0, 0.3));\n",
              "      fill: #FFFFFF;\n",
              "    }\n",
              "  </style>\n",
              "\n",
              "      <script>\n",
              "        const buttonEl =\n",
              "          document.querySelector('#df-ab7ad87c-96ae-41d9-ac15-126abd5374e4 button.colab-df-convert');\n",
              "        buttonEl.style.display =\n",
              "          google.colab.kernel.accessAllowed ? 'block' : 'none';\n",
              "\n",
              "        async function convertToInteractive(key) {\n",
              "          const element = document.querySelector('#df-ab7ad87c-96ae-41d9-ac15-126abd5374e4');\n",
              "          const dataTable =\n",
              "            await google.colab.kernel.invokeFunction('convertToInteractive',\n",
              "                                                     [key], {});\n",
              "          if (!dataTable) return;\n",
              "\n",
              "          const docLinkHtml = 'Like what you see? Visit the ' +\n",
              "            '<a target=\"_blank\" href=https://colab.research.google.com/notebooks/data_table.ipynb>data table notebook</a>'\n",
              "            + ' to learn more about interactive tables.';\n",
              "          element.innerHTML = '';\n",
              "          dataTable['output_type'] = 'display_data';\n",
              "          await google.colab.output.renderOutput(dataTable, element);\n",
              "          const docLink = document.createElement('div');\n",
              "          docLink.innerHTML = docLinkHtml;\n",
              "          element.appendChild(docLink);\n",
              "        }\n",
              "      </script>\n",
              "    </div>\n",
              "  </div>\n",
              "  "
            ]
          },
          "metadata": {},
          "execution_count": 249
        }
      ],
      "source": [
        "#head values of the dataframe with new column 'sentiment' which contains the sentiment of the review\n",
        "df.head()"
      ],
      "id": "8cb7b4ed"
    },
    {
      "cell_type": "code",
      "execution_count": 250,
      "metadata": {
        "id": "_A7vJtH0Oaao",
        "colab": {
          "base_uri": "https://localhost:8080/",
          "height": 206
        },
        "outputId": "19d17d36-73f4-464b-fd31-07284f60c574"
      },
      "outputs": [
        {
          "output_type": "execute_result",
          "data": {
            "text/plain": [
              "                                          reviewText sentiment\n",
              "0  love this stuff   works on several tools and i...  Positive\n",
              "1                                      as advertised   Neutral\n",
              "2      great product   works well   thank you   mike  Positive\n",
              "3                          great price  fast service  Positive\n",
              "4                not as strong as i thought would be  Negative"
            ],
            "text/html": [
              "\n",
              "  <div id=\"df-3b59801e-bbe0-4a12-bdf9-c97a5f07ea4a\">\n",
              "    <div class=\"colab-df-container\">\n",
              "      <div>\n",
              "<style scoped>\n",
              "    .dataframe tbody tr th:only-of-type {\n",
              "        vertical-align: middle;\n",
              "    }\n",
              "\n",
              "    .dataframe tbody tr th {\n",
              "        vertical-align: top;\n",
              "    }\n",
              "\n",
              "    .dataframe thead th {\n",
              "        text-align: right;\n",
              "    }\n",
              "</style>\n",
              "<table border=\"1\" class=\"dataframe\">\n",
              "  <thead>\n",
              "    <tr style=\"text-align: right;\">\n",
              "      <th></th>\n",
              "      <th>reviewText</th>\n",
              "      <th>sentiment</th>\n",
              "    </tr>\n",
              "  </thead>\n",
              "  <tbody>\n",
              "    <tr>\n",
              "      <th>0</th>\n",
              "      <td>love this stuff   works on several tools and i...</td>\n",
              "      <td>Positive</td>\n",
              "    </tr>\n",
              "    <tr>\n",
              "      <th>1</th>\n",
              "      <td>as advertised</td>\n",
              "      <td>Neutral</td>\n",
              "    </tr>\n",
              "    <tr>\n",
              "      <th>2</th>\n",
              "      <td>great product   works well   thank you   mike</td>\n",
              "      <td>Positive</td>\n",
              "    </tr>\n",
              "    <tr>\n",
              "      <th>3</th>\n",
              "      <td>great price  fast service</td>\n",
              "      <td>Positive</td>\n",
              "    </tr>\n",
              "    <tr>\n",
              "      <th>4</th>\n",
              "      <td>not as strong as i thought would be</td>\n",
              "      <td>Negative</td>\n",
              "    </tr>\n",
              "  </tbody>\n",
              "</table>\n",
              "</div>\n",
              "      <button class=\"colab-df-convert\" onclick=\"convertToInteractive('df-3b59801e-bbe0-4a12-bdf9-c97a5f07ea4a')\"\n",
              "              title=\"Convert this dataframe to an interactive table.\"\n",
              "              style=\"display:none;\">\n",
              "        \n",
              "  <svg xmlns=\"http://www.w3.org/2000/svg\" height=\"24px\"viewBox=\"0 0 24 24\"\n",
              "       width=\"24px\">\n",
              "    <path d=\"M0 0h24v24H0V0z\" fill=\"none\"/>\n",
              "    <path d=\"M18.56 5.44l.94 2.06.94-2.06 2.06-.94-2.06-.94-.94-2.06-.94 2.06-2.06.94zm-11 1L8.5 8.5l.94-2.06 2.06-.94-2.06-.94L8.5 2.5l-.94 2.06-2.06.94zm10 10l.94 2.06.94-2.06 2.06-.94-2.06-.94-.94-2.06-.94 2.06-2.06.94z\"/><path d=\"M17.41 7.96l-1.37-1.37c-.4-.4-.92-.59-1.43-.59-.52 0-1.04.2-1.43.59L10.3 9.45l-7.72 7.72c-.78.78-.78 2.05 0 2.83L4 21.41c.39.39.9.59 1.41.59.51 0 1.02-.2 1.41-.59l7.78-7.78 2.81-2.81c.8-.78.8-2.07 0-2.86zM5.41 20L4 18.59l7.72-7.72 1.47 1.35L5.41 20z\"/>\n",
              "  </svg>\n",
              "      </button>\n",
              "      \n",
              "  <style>\n",
              "    .colab-df-container {\n",
              "      display:flex;\n",
              "      flex-wrap:wrap;\n",
              "      gap: 12px;\n",
              "    }\n",
              "\n",
              "    .colab-df-convert {\n",
              "      background-color: #E8F0FE;\n",
              "      border: none;\n",
              "      border-radius: 50%;\n",
              "      cursor: pointer;\n",
              "      display: none;\n",
              "      fill: #1967D2;\n",
              "      height: 32px;\n",
              "      padding: 0 0 0 0;\n",
              "      width: 32px;\n",
              "    }\n",
              "\n",
              "    .colab-df-convert:hover {\n",
              "      background-color: #E2EBFA;\n",
              "      box-shadow: 0px 1px 2px rgba(60, 64, 67, 0.3), 0px 1px 3px 1px rgba(60, 64, 67, 0.15);\n",
              "      fill: #174EA6;\n",
              "    }\n",
              "\n",
              "    [theme=dark] .colab-df-convert {\n",
              "      background-color: #3B4455;\n",
              "      fill: #D2E3FC;\n",
              "    }\n",
              "\n",
              "    [theme=dark] .colab-df-convert:hover {\n",
              "      background-color: #434B5C;\n",
              "      box-shadow: 0px 1px 3px 1px rgba(0, 0, 0, 0.15);\n",
              "      filter: drop-shadow(0px 1px 2px rgba(0, 0, 0, 0.3));\n",
              "      fill: #FFFFFF;\n",
              "    }\n",
              "  </style>\n",
              "\n",
              "      <script>\n",
              "        const buttonEl =\n",
              "          document.querySelector('#df-3b59801e-bbe0-4a12-bdf9-c97a5f07ea4a button.colab-df-convert');\n",
              "        buttonEl.style.display =\n",
              "          google.colab.kernel.accessAllowed ? 'block' : 'none';\n",
              "\n",
              "        async function convertToInteractive(key) {\n",
              "          const element = document.querySelector('#df-3b59801e-bbe0-4a12-bdf9-c97a5f07ea4a');\n",
              "          const dataTable =\n",
              "            await google.colab.kernel.invokeFunction('convertToInteractive',\n",
              "                                                     [key], {});\n",
              "          if (!dataTable) return;\n",
              "\n",
              "          const docLinkHtml = 'Like what you see? Visit the ' +\n",
              "            '<a target=\"_blank\" href=https://colab.research.google.com/notebooks/data_table.ipynb>data table notebook</a>'\n",
              "            + ' to learn more about interactive tables.';\n",
              "          element.innerHTML = '';\n",
              "          dataTable['output_type'] = 'display_data';\n",
              "          await google.colab.output.renderOutput(dataTable, element);\n",
              "          const docLink = document.createElement('div');\n",
              "          docLink.innerHTML = docLinkHtml;\n",
              "          element.appendChild(docLink);\n",
              "        }\n",
              "      </script>\n",
              "    </div>\n",
              "  </div>\n",
              "  "
            ]
          },
          "metadata": {},
          "execution_count": 250
        }
      ],
      "source": [
        "#select only required columns..\n",
        "df_new= df[['reviewText', 'sentiment']]\n",
        "df_new.head() #print the head values"
      ],
      "id": "_A7vJtH0Oaao"
    },
    {
      "cell_type": "markdown",
      "metadata": {
        "id": "45d61df1"
      },
      "source": [
        "### **Visualizing Results**"
      ],
      "id": "45d61df1"
    },
    {
      "cell_type": "code",
      "execution_count": 251,
      "metadata": {
        "id": "89a89ef3",
        "colab": {
          "base_uri": "https://localhost:8080/",
          "height": 367
        },
        "outputId": "f4364ff8-a5cb-4aa4-beda-61554abe4e0c"
      },
      "outputs": [
        {
          "output_type": "execute_result",
          "data": {
            "text/plain": [
              "Text(0.5, 1.0, 'Sentiment count within 3 categories')"
            ]
          },
          "metadata": {},
          "execution_count": 251
        },
        {
          "output_type": "display_data",
          "data": {
            "text/plain": [
              "<Figure size 576x360 with 1 Axes>"
            ],
            "image/png": "[encoded data removed]"
          },
          "metadata": {
            "needs_background": "light"
          }
        }
      ],
      "source": [
        "#plot the sentiment type count using bar chart\n",
        "plt.figure(figsize=(8,5))\n",
        "sns.countplot(x='sentiment',data=df, palette='rainbow')\n",
        "plt.title(\"Sentiment count within 3 categories\")"
      ],
      "id": "89a89ef3"
    },
    {
      "cell_type": "code",
      "execution_count": 252,
      "metadata": {
        "id": "b93d2c9f",
        "colab": {
          "base_uri": "https://localhost:8080/",
          "height": 248
        },
        "outputId": "596a4cb0-9be2-4ff0-ebe4-7618a278bfcb"
      },
      "outputs": [
        {
          "output_type": "display_data",
          "data": {
            "text/plain": [
              "<Figure size 432x288 with 1 Axes>"
            ],
            "image/png": "[encoded data removed]"
          },
          "metadata": {}
        }
      ],
      "source": [
        "#plot the results using pie chart\n",
        "def my_fmt(x):\n",
        "    return '{:.4f}%\\n({:.0f})'.format(x, total*x/100)\n",
        "v_counts = df['sentiment'].value_counts()\n",
        "total = df['sentiment'].shape[0]\n",
        "fig = plt.figure()\n",
        "plt.pie(v_counts, labels=v_counts.index, autopct=my_fmt);"
      ],
      "id": "b93d2c9f"
    },
    {
      "cell_type": "markdown",
      "metadata": {
        "id": "urspdvDH6PoK"
      },
      "source": [
        "## **Sentiment Analyze(Roberta pre-trained model)**\n",
        "\n",
        "\n"
      ],
      "id": "urspdvDH6PoK"
    },
    {
      "cell_type": "markdown",
      "metadata": {
        "id": "VgvDuKWYTlcL"
      },
      "source": [
        "This method accounts for the words but also the context related to other words"
      ],
      "id": "VgvDuKWYTlcL"
    },
    {
      "cell_type": "code",
      "execution_count": 253,
      "metadata": {
        "id": "I02AdR7N6XCd"
      },
      "outputs": [],
      "source": [
        "#access the pretrained model(from hugging face)|model trained on twitter comments\n",
        "MODEL = f\"cardiffnlp/twitter-roberta-base-sentiment\"\n",
        "tokenizer = AutoTokenizer.from_pretrained(MODEL)\n",
        "model = AutoModelForSequenceClassification.from_pretrained(MODEL)"
      ],
      "id": "I02AdR7N6XCd"
    },
    {
      "cell_type": "code",
      "execution_count": 254,
      "metadata": {
        "id": "eAXReV9q7Jr2",
        "colab": {
          "base_uri": "https://localhost:8080/",
          "height": 35
        },
        "outputId": "09e913e4-c188-4390-aef5-ec46aada9ee1"
      },
      "outputs": [
        {
          "output_type": "execute_result",
          "data": {
            "text/plain": [
              "'Love this stuff!  Works on several tools and is quality product!'"
            ],
            "application/vnd.google.colaboratory.intrinsic+json": {
              "type": "string"
            }
          },
          "metadata": {},
          "execution_count": 254
        }
      ],
      "source": [
        "review_example"
      ],
      "id": "eAXReV9q7Jr2"
    },
    {
      "cell_type": "code",
      "source": [
        "#tokenize the review text\n",
        "encoded_text=tokenizer(review_example,return_tensors='pt')\n",
        "encoded_text"
      ],
      "metadata": {
        "colab": {
          "base_uri": "https://localhost:8080/"
        },
        "id": "R9mnpOIG6rwC",
        "outputId": "9e1d3e60-8531-457f-a48a-1db8a02455ab"
      },
      "id": "R9mnpOIG6rwC",
      "execution_count": 255,
      "outputs": [
        {
          "output_type": "execute_result",
          "data": {
            "text/plain": [
              "{'input_ids': tensor([[    0, 16587,    42,  2682,   328,  1437,  9478,    15,   484,  3270,\n",
              "             8,    16,  1318,  1152,   328,     2]]), 'attention_mask': tensor([[1, 1, 1, 1, 1, 1, 1, 1, 1, 1, 1, 1, 1, 1, 1, 1]])}"
            ]
          },
          "metadata": {},
          "execution_count": 255
        }
      ]
    },
    {
      "cell_type": "code",
      "source": [
        "#run on Roberta Model(the example product review)\n",
        "output=model(**encoded_text)\n",
        "sentiment_scores=output[0][0].detach().numpy()\n",
        "sentiment_scores=softmax(sentiment_scores)\n",
        "sentiment_scores_dict={\n",
        "    'neg':sentiment_scores[0],\n",
        "    'neu':sentiment_scores[1],\n",
        "    'pos':sentiment_scores[2]\n",
        "\n",
        "}\n",
        "print(sentiment_scores_dict)"
      ],
      "metadata": {
        "colab": {
          "base_uri": "https://localhost:8080/"
        },
        "id": "QiLxlQNM7Y5h",
        "outputId": "ec1ed081-15a1-4fad-d493-329f89daa7c4"
      },
      "id": "QiLxlQNM7Y5h",
      "execution_count": 256,
      "outputs": [
        {
          "output_type": "stream",
          "name": "stdout",
          "text": [
            "{'neg': 0.0023522973, 'neu': 0.012491355, 'pos': 0.9851563}\n"
          ]
        }
      ]
    },
    {
      "cell_type": "code",
      "source": [
        "#same comment run on the VADER model\n",
        "SIA = SentimentIntensityAnalyzer()\n",
        "SIA.polarity_scores(review_example)"
      ],
      "metadata": {
        "colab": {
          "base_uri": "https://localhost:8080/"
        },
        "id": "BEJ1An5m7yti",
        "outputId": "623391f1-0c8d-4296-d5a1-8efcc2c8cd4c"
      },
      "id": "BEJ1An5m7yti",
      "execution_count": 257,
      "outputs": [
        {
          "output_type": "execute_result",
          "data": {
            "text/plain": [
              "{'neg': 0.0, 'neu': 0.676, 'pos': 0.324, 'compound': 0.6988}"
            ]
          },
          "metadata": {},
          "execution_count": 257
        }
      ]
    },
    {
      "cell_type": "code",
      "source": [
        "#sample review\n",
        "review_example"
      ],
      "metadata": {
        "colab": {
          "base_uri": "https://localhost:8080/",
          "height": 35
        },
        "id": "mWh6X-aO9KQC",
        "outputId": "0ea21f67-1324-48d1-e392-0bfcafb7736d"
      },
      "id": "mWh6X-aO9KQC",
      "execution_count": 258,
      "outputs": [
        {
          "output_type": "execute_result",
          "data": {
            "text/plain": [
              "'Love this stuff!  Works on several tools and is quality product!'"
            ],
            "application/vnd.google.colaboratory.intrinsic+json": {
              "type": "string"
            }
          },
          "metadata": {},
          "execution_count": 258
        }
      ]
    },
    {
      "cell_type": "markdown",
      "source": [
        "It can be seen that,this review seems positive, by reading it.So,it's clear that this Roberta model given more accurate result than the VADER model"
      ],
      "metadata": {
        "id": "s2NQolSF9Rd8"
      },
      "id": "s2NQolSF9Rd8"
    },
    {
      "cell_type": "code",
      "source": [
        "#function to get the polarity on single review_\n",
        "def polarity_scores_roberta(review_example):\n",
        "  encoded_text = tokenizer(review_example, return_tensors='pt')\n",
        "  output = model(**encoded_text)\n",
        "  review_scores = output[0][0].detach().numpy()\n",
        "  review_scores = softmax(review_scores)\n",
        "  review_scores_dict = {\n",
        "      'Roberta_negative' : review_scores[0],\n",
        "      'Roberta_neutral' : review_scores[1],\n",
        "      'Roberta_positive' : review_scores[2]\n",
        "  }\n",
        "  return review_scores_dict"
      ],
      "metadata": {
        "id": "3npnxwML9wuy"
      },
      "id": "3npnxwML9wuy",
      "execution_count": 259,
      "outputs": []
    },
    {
      "cell_type": "code",
      "source": [
        "res = {}\n",
        "for i, row in tqdm(df.iterrows(), total=len(df)):\n",
        "    try:\n",
        "        text = row['reviewText']\n",
        "        myid = row['id']\n",
        "        vader_result = SIA.polarity_scores(text)\n",
        "        vader_result_rename = {}\n",
        "        for key, value in vader_result.items():\n",
        "            vader_result_rename[f\"VADER_{key}\"] = value\n",
        "        roberta_result = polarity_scores_roberta(text)\n",
        "        both = {**vader_result_rename, **roberta_result}\n",
        "        res[myid] = both\n",
        "    except RuntimeError:\n",
        "        print(f'Broke for id {myid}')"
      ],
      "metadata": {
        "colab": {
          "base_uri": "https://localhost:8080/",
          "height": 49,
          "referenced_widgets": [
            "9c91f31a127f478893ff6024989c03cb",
            "78232d09574e4cb08ac6872f6a261a30",
            "77192092dfa641c4ae1518a45c04acdc",
            "e6095665fbd3498b9844b120a3a604ac",
            "67350cbad11c438f92e45097aff346b4",
            "b68bf074b2244d7092379966578536f9",
            "6fb823761f25443db9b36a0629ebf95c",
            "db0aa437102d4c1d845216ea45daf0ea",
            "f5af6f9612b3485aa5517b1cc69701ae",
            "d8bb3917d6e7410bb43dd49d9ca9ba35",
            "7c948e18bea84f60ac6227dbe72ee97f"
          ]
        },
        "id": "xCg7OVrKAuit",
        "outputId": "ab4bda8a-22ce-4425-e213-88ae5f145f1b"
      },
      "id": "xCg7OVrKAuit",
      "execution_count": 260,
      "outputs": [
        {
          "output_type": "display_data",
          "data": {
            "text/plain": [
              "  0%|          | 0/100 [00:00<?, ?it/s]"
            ],
            "application/vnd.jupyter.widget-view+json": {
              "version_major": 2,
              "version_minor": 0,
              "model_id": "9c91f31a127f478893ff6024989c03cb"
            }
          },
          "metadata": {}
        }
      ]
    },
    {
      "cell_type": "code",
      "source": [
        "results_df = pd.DataFrame(res).T\n",
        "results_df = results_df.reset_index().rename(columns={'index': 'id'})\n",
        "results_df = results_df.merge(df, how='left')"
      ],
      "metadata": {
        "id": "Z4ybXHHgDF1E"
      },
      "id": "Z4ybXHHgDF1E",
      "execution_count": 261,
      "outputs": []
    },
    {
      "cell_type": "code",
      "source": [
        "#resulting dataframe head values\n",
        "results_df.head()"
      ],
      "metadata": {
        "colab": {
          "base_uri": "https://localhost:8080/",
          "height": 478
        },
        "id": "b__a1ddZDIlw",
        "outputId": "1d1249c1-4a85-40ec-b69a-5850204100e3"
      },
      "id": "b__a1ddZDIlw",
      "execution_count": 262,
      "outputs": [
        {
          "output_type": "execute_result",
          "data": {
            "text/plain": [
              "   id  VADER_neg  VADER_neu  VADER_pos  VADER_compound  Roberta_negative  \\\n",
              "0   0      0.000      0.704      0.296          0.6369          0.004103   \n",
              "1   1      0.000      1.000      0.000          0.0000          0.277730   \n",
              "2   2      0.000      0.315      0.685          0.8271          0.002390   \n",
              "3   3      0.000      0.423      0.577          0.6249          0.010291   \n",
              "4   4      0.311      0.689      0.000         -0.4023          0.603772   \n",
              "\n",
              "   Roberta_neutral  Roberta_positive  \\\n",
              "0         0.025484          0.970413   \n",
              "1         0.614332          0.107938   \n",
              "2         0.013667          0.983943   \n",
              "3         0.084801          0.904908   \n",
              "4         0.362563          0.033664   \n",
              "\n",
              "                                          reviewText  overall  \\\n",
              "0  love this stuff   works on several tools and i...        5   \n",
              "1                                      as advertised        4   \n",
              "2      great product   works well   thank you   mike        5   \n",
              "3                          great price  fast service        5   \n",
              "4                not as strong as i thought would be        3   \n",
              "\n",
              "                            summary  polarity  subjectivity sentiment  \n",
              "0                        Excellent!  0.250000      0.300000  Positive  \n",
              "1                     As advertised  0.000000      0.000000   Neutral  \n",
              "2                        Five Stars  0.800000      0.750000  Positive  \n",
              "3                        Five Stars  0.500000      0.675000  Positive  \n",
              "4  Not As Strong As I Thought Would  0.433333      0.733333  Negative  "
            ],
            "text/html": [
              "\n",
              "  <div id=\"df-632d143c-42db-4d89-818a-6467cc8addeb\">\n",
              "    <div class=\"colab-df-container\">\n",
              "      <div>\n",
              "<style scoped>\n",
              "    .dataframe tbody tr th:only-of-type {\n",
              "        vertical-align: middle;\n",
              "    }\n",
              "\n",
              "    .dataframe tbody tr th {\n",
              "        vertical-align: top;\n",
              "    }\n",
              "\n",
              "    .dataframe thead th {\n",
              "        text-align: right;\n",
              "    }\n",
              "</style>\n",
              "<table border=\"1\" class=\"dataframe\">\n",
              "  <thead>\n",
              "    <tr style=\"text-align: right;\">\n",
              "      <th></th>\n",
              "      <th>id</th>\n",
              "      <th>VADER_neg</th>\n",
              "      <th>VADER_neu</th>\n",
              "      <th>VADER_pos</th>\n",
              "      <th>VADER_compound</th>\n",
              "      <th>Roberta_negative</th>\n",
              "      <th>Roberta_neutral</th>\n",
              "      <th>Roberta_positive</th>\n",
              "      <th>reviewText</th>\n",
              "      <th>overall</th>\n",
              "      <th>summary</th>\n",
              "      <th>polarity</th>\n",
              "      <th>subjectivity</th>\n",
              "      <th>sentiment</th>\n",
              "    </tr>\n",
              "  </thead>\n",
              "  <tbody>\n",
              "    <tr>\n",
              "      <th>0</th>\n",
              "      <td>0</td>\n",
              "      <td>0.000</td>\n",
              "      <td>0.704</td>\n",
              "      <td>0.296</td>\n",
              "      <td>0.6369</td>\n",
              "      <td>0.004103</td>\n",
              "      <td>0.025484</td>\n",
              "      <td>0.970413</td>\n",
              "      <td>love this stuff   works on several tools and i...</td>\n",
              "      <td>5</td>\n",
              "      <td>Excellent!</td>\n",
              "      <td>0.250000</td>\n",
              "      <td>0.300000</td>\n",
              "      <td>Positive</td>\n",
              "    </tr>\n",
              "    <tr>\n",
              "      <th>1</th>\n",
              "      <td>1</td>\n",
              "      <td>0.000</td>\n",
              "      <td>1.000</td>\n",
              "      <td>0.000</td>\n",
              "      <td>0.0000</td>\n",
              "      <td>0.277730</td>\n",
              "      <td>0.614332</td>\n",
              "      <td>0.107938</td>\n",
              "      <td>as advertised</td>\n",
              "      <td>4</td>\n",
              "      <td>As advertised</td>\n",
              "      <td>0.000000</td>\n",
              "      <td>0.000000</td>\n",
              "      <td>Neutral</td>\n",
              "    </tr>\n",
              "    <tr>\n",
              "      <th>2</th>\n",
              "      <td>2</td>\n",
              "      <td>0.000</td>\n",
              "      <td>0.315</td>\n",
              "      <td>0.685</td>\n",
              "      <td>0.8271</td>\n",
              "      <td>0.002390</td>\n",
              "      <td>0.013667</td>\n",
              "      <td>0.983943</td>\n",
              "      <td>great product   works well   thank you   mike</td>\n",
              "      <td>5</td>\n",
              "      <td>Five Stars</td>\n",
              "      <td>0.800000</td>\n",
              "      <td>0.750000</td>\n",
              "      <td>Positive</td>\n",
              "    </tr>\n",
              "    <tr>\n",
              "      <th>3</th>\n",
              "      <td>3</td>\n",
              "      <td>0.000</td>\n",
              "      <td>0.423</td>\n",
              "      <td>0.577</td>\n",
              "      <td>0.6249</td>\n",
              "      <td>0.010291</td>\n",
              "      <td>0.084801</td>\n",
              "      <td>0.904908</td>\n",
              "      <td>great price  fast service</td>\n",
              "      <td>5</td>\n",
              "      <td>Five Stars</td>\n",
              "      <td>0.500000</td>\n",
              "      <td>0.675000</td>\n",
              "      <td>Positive</td>\n",
              "    </tr>\n",
              "    <tr>\n",
              "      <th>4</th>\n",
              "      <td>4</td>\n",
              "      <td>0.311</td>\n",
              "      <td>0.689</td>\n",
              "      <td>0.000</td>\n",
              "      <td>-0.4023</td>\n",
              "      <td>0.603772</td>\n",
              "      <td>0.362563</td>\n",
              "      <td>0.033664</td>\n",
              "      <td>not as strong as i thought would be</td>\n",
              "      <td>3</td>\n",
              "      <td>Not As Strong As I Thought Would</td>\n",
              "      <td>0.433333</td>\n",
              "      <td>0.733333</td>\n",
              "      <td>Negative</td>\n",
              "    </tr>\n",
              "  </tbody>\n",
              "</table>\n",
              "</div>\n",
              "      <button class=\"colab-df-convert\" onclick=\"convertToInteractive('df-632d143c-42db-4d89-818a-6467cc8addeb')\"\n",
              "              title=\"Convert this dataframe to an interactive table.\"\n",
              "              style=\"display:none;\">\n",
              "        \n",
              "  <svg xmlns=\"http://www.w3.org/2000/svg\" height=\"24px\"viewBox=\"0 0 24 24\"\n",
              "       width=\"24px\">\n",
              "    <path d=\"M0 0h24v24H0V0z\" fill=\"none\"/>\n",
              "    <path d=\"M18.56 5.44l.94 2.06.94-2.06 2.06-.94-2.06-.94-.94-2.06-.94 2.06-2.06.94zm-11 1L8.5 8.5l.94-2.06 2.06-.94-2.06-.94L8.5 2.5l-.94 2.06-2.06.94zm10 10l.94 2.06.94-2.06 2.06-.94-2.06-.94-.94-2.06-.94 2.06-2.06.94z\"/><path d=\"M17.41 7.96l-1.37-1.37c-.4-.4-.92-.59-1.43-.59-.52 0-1.04.2-1.43.59L10.3 9.45l-7.72 7.72c-.78.78-.78 2.05 0 2.83L4 21.41c.39.39.9.59 1.41.59.51 0 1.02-.2 1.41-.59l7.78-7.78 2.81-2.81c.8-.78.8-2.07 0-2.86zM5.41 20L4 18.59l7.72-7.72 1.47 1.35L5.41 20z\"/>\n",
              "  </svg>\n",
              "      </button>\n",
              "      \n",
              "  <style>\n",
              "    .colab-df-container {\n",
              "      display:flex;\n",
              "      flex-wrap:wrap;\n",
              "      gap: 12px;\n",
              "    }\n",
              "\n",
              "    .colab-df-convert {\n",
              "      background-color: #E8F0FE;\n",
              "      border: none;\n",
              "      border-radius: 50%;\n",
              "      cursor: pointer;\n",
              "      display: none;\n",
              "      fill: #1967D2;\n",
              "      height: 32px;\n",
              "      padding: 0 0 0 0;\n",
              "      width: 32px;\n",
              "    }\n",
              "\n",
              "    .colab-df-convert:hover {\n",
              "      background-color: #E2EBFA;\n",
              "      box-shadow: 0px 1px 2px rgba(60, 64, 67, 0.3), 0px 1px 3px 1px rgba(60, 64, 67, 0.15);\n",
              "      fill: #174EA6;\n",
              "    }\n",
              "\n",
              "    [theme=dark] .colab-df-convert {\n",
              "      background-color: #3B4455;\n",
              "      fill: #D2E3FC;\n",
              "    }\n",
              "\n",
              "    [theme=dark] .colab-df-convert:hover {\n",
              "      background-color: #434B5C;\n",
              "      box-shadow: 0px 1px 3px 1px rgba(0, 0, 0, 0.15);\n",
              "      filter: drop-shadow(0px 1px 2px rgba(0, 0, 0, 0.3));\n",
              "      fill: #FFFFFF;\n",
              "    }\n",
              "  </style>\n",
              "\n",
              "      <script>\n",
              "        const buttonEl =\n",
              "          document.querySelector('#df-632d143c-42db-4d89-818a-6467cc8addeb button.colab-df-convert');\n",
              "        buttonEl.style.display =\n",
              "          google.colab.kernel.accessAllowed ? 'block' : 'none';\n",
              "\n",
              "        async function convertToInteractive(key) {\n",
              "          const element = document.querySelector('#df-632d143c-42db-4d89-818a-6467cc8addeb');\n",
              "          const dataTable =\n",
              "            await google.colab.kernel.invokeFunction('convertToInteractive',\n",
              "                                                     [key], {});\n",
              "          if (!dataTable) return;\n",
              "\n",
              "          const docLinkHtml = 'Like what you see? Visit the ' +\n",
              "            '<a target=\"_blank\" href=https://colab.research.google.com/notebooks/data_table.ipynb>data table notebook</a>'\n",
              "            + ' to learn more about interactive tables.';\n",
              "          element.innerHTML = '';\n",
              "          dataTable['output_type'] = 'display_data';\n",
              "          await google.colab.output.renderOutput(dataTable, element);\n",
              "          const docLink = document.createElement('div');\n",
              "          docLink.innerHTML = docLinkHtml;\n",
              "          element.appendChild(docLink);\n",
              "        }\n",
              "      </script>\n",
              "    </div>\n",
              "  </div>\n",
              "  "
            ]
          },
          "metadata": {},
          "execution_count": 262
        }
      ]
    },
    {
      "cell_type": "code",
      "source": [
        "#resulting dataframe columns\n",
        "results_df.columns"
      ],
      "metadata": {
        "colab": {
          "base_uri": "https://localhost:8080/"
        },
        "id": "7S7Ml5qrDUg8",
        "outputId": "e573f133-43a5-447f-e135-57c48a2db036"
      },
      "id": "7S7Ml5qrDUg8",
      "execution_count": 263,
      "outputs": [
        {
          "output_type": "execute_result",
          "data": {
            "text/plain": [
              "Index(['id', 'VADER_neg', 'VADER_neu', 'VADER_pos', 'VADER_compound',\n",
              "       'Roberta_negative', 'Roberta_neutral', 'Roberta_positive', 'reviewText',\n",
              "       'overall', 'summary', 'polarity', 'subjectivity', 'sentiment'],\n",
              "      dtype='object')"
            ]
          },
          "metadata": {},
          "execution_count": 263
        }
      ]
    },
    {
      "cell_type": "code",
      "source": [],
      "metadata": {
        "id": "-YzOPqQVDasl"
      },
      "id": "-YzOPqQVDasl",
      "execution_count": 263,
      "outputs": []
    },
    {
      "cell_type": "markdown",
      "metadata": {
        "id": "o5PaEjhL69C0"
      },
      "source": [
        "### **Visualizing & Compare Results**"
      ],
      "id": "o5PaEjhL69C0"
    },
    {
      "cell_type": "code",
      "source": [
        "#drawing pairplots\n",
        "sns.pairplot(data=results_df,\n",
        "             vars=['VADER_neg', 'VADER_neu', 'VADER_pos',\n",
        "                  'Roberta_negative', 'Roberta_neutral', 'Roberta_positive'],\n",
        "            hue='overall',\n",
        "            palette='tab10')\n",
        "plt.show()"
      ],
      "metadata": {
        "colab": {
          "base_uri": "https://localhost:8080/",
          "height": 1000
        },
        "id": "OHO42dY2DE-N",
        "outputId": "8cb310d7-3fa2-4e19-8ad1-309a18e1b0e7"
      },
      "id": "OHO42dY2DE-N",
      "execution_count": 265,
      "outputs": [
        {
          "output_type": "display_data",
          "data": {
            "text/plain": [
              "<Figure size 1122.38x1080 with 42 Axes>"
            ],
            "image/png": "[encoded data removed]"
          },
          "metadata": {
            "needs_background": "light"
          }
        }
      ]
    },
    {
      "cell_type": "markdown",
      "source": [
        "# **Evaluate the Model with sample input reviews**"
      ],
      "metadata": {
        "id": "Y240lBKUFA8n"
      },
      "id": "Y240lBKUFA8n"
    },
    {
      "cell_type": "code",
      "source": [
        "#Roberta predict as positive and reviewer given the score as 1(highest positive score given by Roberta)\n",
        "results_df.query('overall == 1').sort_values('Roberta_positive', ascending=False)['reviewText'].values[0]"
      ],
      "metadata": {
        "colab": {
          "base_uri": "https://localhost:8080/",
          "height": 53
        },
        "id": "fHcYSIMHFHG1",
        "outputId": "1ab66da0-ac7d-4189-d38e-f57611582038"
      },
      "id": "fHcYSIMHFHG1",
      "execution_count": 269,
      "outputs": [
        {
          "output_type": "execute_result",
          "data": {
            "text/plain": [
              "'sloppy fit in shop vac hose as reported by others   if they were priced lower i could swallow that pill  but thumbs down on this purchase at the going amazon price of      '"
            ],
            "application/vnd.google.colaboratory.intrinsic+json": {
              "type": "string"
            }
          },
          "metadata": {},
          "execution_count": 269
        }
      ]
    },
    {
      "cell_type": "code",
      "source": [
        "#VADER predict as positive and reviewer given the score as 1(highest positive score given by VADER)\n",
        "results_df.query('overall == 1').sort_values('VADER_pos', ascending=False)['reviewText'].values[0]"
      ],
      "metadata": {
        "colab": {
          "base_uri": "https://localhost:8080/",
          "height": 53
        },
        "id": "dC_rP9uLF1Iu",
        "outputId": "82e8332a-4512-46e3-b283-83f3e928b083"
      },
      "id": "dC_rP9uLF1Iu",
      "execution_count": 272,
      "outputs": [
        {
          "output_type": "execute_result",
          "data": {
            "text/plain": [
              "'sloppy fit in shop vac hose as reported by others   if they were priced lower i could swallow that pill  but thumbs down on this purchase at the going amazon price of      '"
            ],
            "application/vnd.google.colaboratory.intrinsic+json": {
              "type": "string"
            }
          },
          "metadata": {},
          "execution_count": 272
        }
      ]
    },
    {
      "cell_type": "code",
      "source": [
        "#VADER predict as positive and reviewer given the score as 1(highest negative score given by Roberta)\n",
        "results_df.query('overall == 5').sort_values('Roberta_negative', ascending=False)['reviewText'].values[0]"
      ],
      "metadata": {
        "colab": {
          "base_uri": "https://localhost:8080/",
          "height": 35
        },
        "id": "bqKra9v3GN4Y",
        "outputId": "fc8bb275-5c53-49af-e914-49fe38e987f3"
      },
      "id": "bqKra9v3GN4Y",
      "execution_count": 273,
      "outputs": [
        {
          "output_type": "execute_result",
          "data": {
            "text/plain": [
              "'i disagree with some reviews saying that the cutting tool doesn t work  maybe they used the wrong end of the tube  as one end is sharp  the other is not '"
            ],
            "application/vnd.google.colaboratory.intrinsic+json": {
              "type": "string"
            }
          },
          "metadata": {},
          "execution_count": 273
        }
      ]
    },
    {
      "cell_type": "code",
      "source": [
        "#VADER predict as positive and reviewer given the score as 1(highest negative score given by Roberta)\n",
        "results_df.query('overall == 5').sort_values('VADER_neg', ascending=False)['reviewText'].values[0]"
      ],
      "metadata": {
        "colab": {
          "base_uri": "https://localhost:8080/",
          "height": 35
        },
        "id": "fNtzUNcJGa_9",
        "outputId": "9d8f8a93-5070-40b8-a909-4170847c9d2d"
      },
      "id": "fNtzUNcJGa_9",
      "execution_count": 274,
      "outputs": [
        {
          "output_type": "execute_result",
          "data": {
            "text/plain": [
              "'works great  no problems encountered wit the seller'"
            ],
            "application/vnd.google.colaboratory.intrinsic+json": {
              "type": "string"
            }
          },
          "metadata": {},
          "execution_count": 274
        }
      ]
    }
  ],
  "metadata": {
    "colab": {
      "provenance": []
    },
    "kernelspec": {
      "display_name": "Python 3 (ipykernel)",
      "language": "python",
      "name": "python3"
    },
    "language_info": {
      "codemirror_mode": {
        "name": "ipython",
        "version": 3
      },
      "file_extension": ".py",
      "mimetype": "text/x-python",
      "name": "python",
      "nbconvert_exporter": "python",
      "pygments_lexer": "ipython3",
      "version": "3.9.12"
    },
    "widgets": {
      "application/vnd.jupyter.widget-state+json": {
        "9c91f31a127f478893ff6024989c03cb": {
          "model_module": "@jupyter-widgets/controls",
          "model_name": "HBoxModel",
          "model_module_version": "1.5.0",
          "state": {
            "_dom_classes": [],
            "_model_module": "@jupyter-widgets/controls",
            "_model_module_version": "1.5.0",
            "_model_name": "HBoxModel",
            "_view_count": null,
            "_view_module": "@jupyter-widgets/controls",
            "_view_module_version": "1.5.0",
            "_view_name": "HBoxView",
            "box_style": "",
            "children": [
              "IPY_MODEL_78232d09574e4cb08ac6872f6a261a30",
              "IPY_MODEL_77192092dfa641c4ae1518a45c04acdc",
              "IPY_MODEL_e6095665fbd3498b9844b120a3a604ac"
            ],
            "layout": "IPY_MODEL_67350cbad11c438f92e45097aff346b4"
          }
        },
        "78232d09574e4cb08ac6872f6a261a30": {
          "model_module": "@jupyter-widgets/controls",
          "model_name": "HTMLModel",
          "model_module_version": "1.5.0",
          "state": {
            "_dom_classes": [],
            "_model_module": "@jupyter-widgets/controls",
            "_model_module_version": "1.5.0",
            "_model_name": "HTMLModel",
            "_view_count": null,
            "_view_module": "@jupyter-widgets/controls",
            "_view_module_version": "1.5.0",
            "_view_name": "HTMLView",
            "description": "",
            "description_tooltip": null,
            "layout": "IPY_MODEL_b68bf074b2244d7092379966578536f9",
            "placeholder": "​",
            "style": "IPY_MODEL_6fb823761f25443db9b36a0629ebf95c",
            "value": "100%"
          }
        },
        "77192092dfa641c4ae1518a45c04acdc": {
          "model_module": "@jupyter-widgets/controls",
          "model_name": "FloatProgressModel",
          "model_module_version": "1.5.0",
          "state": {
            "_dom_classes": [],
            "_model_module": "@jupyter-widgets/controls",
            "_model_module_version": "1.5.0",
            "_model_name": "FloatProgressModel",
            "_view_count": null,
            "_view_module": "@jupyter-widgets/controls",
            "_view_module_version": "1.5.0",
            "_view_name": "ProgressView",
            "bar_style": "success",
            "description": "",
            "description_tooltip": null,
            "layout": "IPY_MODEL_db0aa437102d4c1d845216ea45daf0ea",
            "max": 100,
            "min": 0,
            "orientation": "horizontal",
            "style": "IPY_MODEL_f5af6f9612b3485aa5517b1cc69701ae",
            "value": 100
          }
        },
        "e6095665fbd3498b9844b120a3a604ac": {
          "model_module": "@jupyter-widgets/controls",
          "model_name": "HTMLModel",
          "model_module_version": "1.5.0",
          "state": {
            "_dom_classes": [],
            "_model_module": "@jupyter-widgets/controls",
            "_model_module_version": "1.5.0",
            "_model_name": "HTMLModel",
            "_view_count": null,
            "_view_module": "@jupyter-widgets/controls",
            "_view_module_version": "1.5.0",
            "_view_name": "HTMLView",
            "description": "",
            "description_tooltip": null,
            "layout": "IPY_MODEL_d8bb3917d6e7410bb43dd49d9ca9ba35",
            "placeholder": "​",
            "style": "IPY_MODEL_7c948e18bea84f60ac6227dbe72ee97f",
            "value": " 100/100 [00:16&lt;00:00,  3.87it/s]"
          }
        },
        "67350cbad11c438f92e45097aff346b4": {
          "model_module": "@jupyter-widgets/base",
          "model_name": "LayoutModel",
          "model_module_version": "1.2.0",
          "state": {
            "_model_module": "@jupyter-widgets/base",
            "_model_module_version": "1.2.0",
            "_model_name": "LayoutModel",
            "_view_count": null,
            "_view_module": "@jupyter-widgets/base",
            "_view_module_version": "1.2.0",
            "_view_name": "LayoutView",
            "align_content": null,
            "align_items": null,
            "align_self": null,
            "border": null,
            "bottom": null,
            "display": null,
            "flex": null,
            "flex_flow": null,
            "grid_area": null,
            "grid_auto_columns": null,
            "grid_auto_flow": null,
            "grid_auto_rows": null,
            "grid_column": null,
            "grid_gap": null,
            "grid_row": null,
            "grid_template_areas": null,
            "grid_template_columns": null,
            "grid_template_rows": null,
            "height": null,
            "justify_content": null,
            "justify_items": null,
            "left": null,
            "margin": null,
            "max_height": null,
            "max_width": null,
            "min_height": null,
            "min_width": null,
            "object_fit": null,
            "object_position": null,
            "order": null,
            "overflow": null,
            "overflow_x": null,
            "overflow_y": null,
            "padding": null,
            "right": null,
            "top": null,
            "visibility": null,
            "width": null
          }
        },
        "b68bf074b2244d7092379966578536f9": {
          "model_module": "@jupyter-widgets/base",
          "model_name": "LayoutModel",
          "model_module_version": "1.2.0",
          "state": {
            "_model_module": "@jupyter-widgets/base",
            "_model_module_version": "1.2.0",
            "_model_name": "LayoutModel",
            "_view_count": null,
            "_view_module": "@jupyter-widgets/base",
            "_view_module_version": "1.2.0",
            "_view_name": "LayoutView",
            "align_content": null,
            "align_items": null,
            "align_self": null,
            "border": null,
            "bottom": null,
            "display": null,
            "flex": null,
            "flex_flow": null,
            "grid_area": null,
            "grid_auto_columns": null,
            "grid_auto_flow": null,
            "grid_auto_rows": null,
            "grid_column": null,
            "grid_gap": null,
            "grid_row": null,
            "grid_template_areas": null,
            "grid_template_columns": null,
            "grid_template_rows": null,
            "height": null,
            "justify_content": null,
            "justify_items": null,
            "left": null,
            "margin": null,
            "max_height": null,
            "max_width": null,
            "min_height": null,
            "min_width": null,
            "object_fit": null,
            "object_position": null,
            "order": null,
            "overflow": null,
            "overflow_x": null,
            "overflow_y": null,
            "padding": null,
            "right": null,
            "top": null,
            "visibility": null,
            "width": null
          }
        },
        "6fb823761f25443db9b36a0629ebf95c": {
          "model_module": "@jupyter-widgets/controls",
          "model_name": "DescriptionStyleModel",
          "model_module_version": "1.5.0",
          "state": {
            "_model_module": "@jupyter-widgets/controls",
            "_model_module_version": "1.5.0",
            "_model_name": "DescriptionStyleModel",
            "_view_count": null,
            "_view_module": "@jupyter-widgets/base",
            "_view_module_version": "1.2.0",
            "_view_name": "StyleView",
            "description_width": ""
          }
        },
        "db0aa437102d4c1d845216ea45daf0ea": {
          "model_module": "@jupyter-widgets/base",
          "model_name": "LayoutModel",
          "model_module_version": "1.2.0",
          "state": {
            "_model_module": "@jupyter-widgets/base",
            "_model_module_version": "1.2.0",
            "_model_name": "LayoutModel",
            "_view_count": null,
            "_view_module": "@jupyter-widgets/base",
            "_view_module_version": "1.2.0",
            "_view_name": "LayoutView",
            "align_content": null,
            "align_items": null,
            "align_self": null,
            "border": null,
            "bottom": null,
            "display": null,
            "flex": null,
            "flex_flow": null,
            "grid_area": null,
            "grid_auto_columns": null,
            "grid_auto_flow": null,
            "grid_auto_rows": null,
            "grid_column": null,
            "grid_gap": null,
            "grid_row": null,
            "grid_template_areas": null,
            "grid_template_columns": null,
            "grid_template_rows": null,
            "height": null,
            "justify_content": null,
            "justify_items": null,
            "left": null,
            "margin": null,
            "max_height": null,
            "max_width": null,
            "min_height": null,
            "min_width": null,
            "object_fit": null,
            "object_position": null,
            "order": null,
            "overflow": null,
            "overflow_x": null,
            "overflow_y": null,
            "padding": null,
            "right": null,
            "top": null,
            "visibility": null,
            "width": null
          }
        },
        "f5af6f9612b3485aa5517b1cc69701ae": {
          "model_module": "@jupyter-widgets/controls",
          "model_name": "ProgressStyleModel",
          "model_module_version": "1.5.0",
          "state": {
            "_model_module": "@jupyter-widgets/controls",
            "_model_module_version": "1.5.0",
            "_model_name": "ProgressStyleModel",
            "_view_count": null,
            "_view_module": "@jupyter-widgets/base",
            "_view_module_version": "1.2.0",
            "_view_name": "StyleView",
            "bar_color": null,
            "description_width": ""
          }
        },
        "d8bb3917d6e7410bb43dd49d9ca9ba35": {
          "model_module": "@jupyter-widgets/base",
          "model_name": "LayoutModel",
          "model_module_version": "1.2.0",
          "state": {
            "_model_module": "@jupyter-widgets/base",
            "_model_module_version": "1.2.0",
            "_model_name": "LayoutModel",
            "_view_count": null,
            "_view_module": "@jupyter-widgets/base",
            "_view_module_version": "1.2.0",
            "_view_name": "LayoutView",
            "align_content": null,
            "align_items": null,
            "align_self": null,
            "border": null,
            "bottom": null,
            "display": null,
            "flex": null,
            "flex_flow": null,
            "grid_area": null,
            "grid_auto_columns": null,
            "grid_auto_flow": null,
            "grid_auto_rows": null,
            "grid_column": null,
            "grid_gap": null,
            "grid_row": null,
            "grid_template_areas": null,
            "grid_template_columns": null,
            "grid_template_rows": null,
            "height": null,
            "justify_content": null,
            "justify_items": null,
            "left": null,
            "margin": null,
            "max_height": null,
            "max_width": null,
            "min_height": null,
            "min_width": null,
            "object_fit": null,
            "object_position": null,
            "order": null,
            "overflow": null,
            "overflow_x": null,
            "overflow_y": null,
            "padding": null,
            "right": null,
            "top": null,
            "visibility": null,
            "width": null
          }
        },
        "7c948e18bea84f60ac6227dbe72ee97f": {
          "model_module": "@jupyter-widgets/controls",
          "model_name": "DescriptionStyleModel",
          "model_module_version": "1.5.0",
          "state": {
            "_model_module": "@jupyter-widgets/controls",
            "_model_module_version": "1.5.0",
            "_model_name": "DescriptionStyleModel",
            "_view_count": null,
            "_view_module": "@jupyter-widgets/base",
            "_view_module_version": "1.2.0",
            "_view_name": "StyleView",
            "description_width": ""
          }
        }
      }
    }
  },
  "nbformat": 4,
  "nbformat_minor": 5
}